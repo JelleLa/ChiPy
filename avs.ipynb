{
 "cells": [
  {
   "cell_type": "markdown",
   "metadata": {},
   "source": [
    "# Modeling and simulation of an autonomous vehicle storage and retrieval system in $\\chi Py$.\n",
    "\n",
    "This is a Jupyter Notebook that simulates a \"Modeling and simulation of an autonomous vehicle storage and retrieval system\" in $\\chi Py$. It is the intermediate assignment of the third year course Analysis of Production Systems of the BSc Mechanical Engineering at the Eindhoven University of Technology. It is used to test the capabilities of the written $\\chi Py$ Python package as alternative to $\\chi3$.\n",
    "\n",
    "It is important to note that $\\chi Py$ works fundamentally slighty different than $\\chi3$ does. For example, buffers are always linked to a workstation/process of some sort. Modelling a single buffer only is therefor not possible in $\\chi Py$, but is something asked in the assignment (since it works step by step). While modeling, it is still useful to model according to the steps used in the assignment. Because of this, this notebook is split into separate parts (denoted with a header) corresponding part of the assignment. This way each \"phase\"of modeling the system can still be seen.\n",
    "\n",
    "Finally, each new part starts with a `%reset -f` line, removing all variables and imports to avoid conflicts with previous modeling parts. This also means that **each part can be executed separately**.\n"
   ]
  },
  {
   "cell_type": "markdown",
   "metadata": {},
   "source": [
    "## Part 1 and 2 | Generator and Demand Buffer"
   ]
  },
  {
   "cell_type": "code",
   "execution_count": 1,
   "metadata": {},
   "outputs": [],
   "source": [
    "%reset -f"
   ]
  },
  {
   "cell_type": "markdown",
   "metadata": {},
   "source": [
    "### Imports\n",
    "Imports Required Packages"
   ]
  },
  {
   "cell_type": "code",
   "execution_count": 2,
   "metadata": {},
   "outputs": [],
   "source": [
    "import sys\n",
    "#!{sys.executable} -m pip install simpy\n",
    "#import simpy \n",
    "import numpy as np\n",
    "import pandas as pd\n",
    "import random as rd\n",
    "import os\n",
    "import sys\n",
    "import matplotlib.pyplot as plt\n",
    "import chipy as cp"
   ]
  },
  {
   "cell_type": "markdown",
   "metadata": {},
   "source": [
    "### Model Variables"
   ]
  },
  {
   "cell_type": "code",
   "execution_count": 3,
   "metadata": {},
   "outputs": [],
   "source": [
    "arrive: float = 70                                          # Rate of arrival\n",
    "depth: int = 55                                             # The number of columns\n",
    "number_of_orders: int = 10000                               # Number of orders to process        \n",
    "totes: list = []                                            # List of processed orders\n",
    "inf = float(\"inf\")                                          # Infinity\n",
    "env = cp.environment()                                      # Initiate Environment "
   ]
  },
  {
   "cell_type": "markdown",
   "metadata": {},
   "source": [
    "### Workstations"
   ]
  },
  {
   "cell_type": "code",
   "execution_count": 4,
   "metadata": {},
   "outputs": [],
   "source": [
    "workstations = {\n",
    "            \"Vehicle\": cp.Station(env = env, te = lambda: 0, delta = (arrive))\n",
    "    }"
   ]
  },
  {
   "cell_type": "markdown",
   "metadata": {},
   "source": [
    "### Run Environment (`runenv`)\n"
   ]
  },
  {
   "cell_type": "code",
   "execution_count": 5,
   "metadata": {},
   "outputs": [],
   "source": [
    "t_arr: list = []     # Arrive times of totes\n",
    "t_exit: list = []    # Exit times of totes\n",
    "def runenv(env, tote, workstations):\n",
    "    arr = env.now\n",
    "    t_arr.append([tote[0], arr])\n",
    "    \n",
    "    yield env.process(workstations[\"Vehicle\"].proc(tote))  \n",
    "    \n",
    "    end = env.now\n",
    "    t_exit.append([tote[0], end])\n",
    "    totes.append(tote)"
   ]
  },
  {
   "cell_type": "markdown",
   "metadata": {},
   "source": [
    "### Generator\n",
    "(Note: $\\chi Py$ works by default with the term `lots` for an item going through a system.)\n",
    "\n",
    "To add column data to each individual tote, the `chipy.Generator` class has to be inherited in a new class, that simply adds another piece of data to the lot tuple. \n",
    "\n",
    "Look inside the source code for more details. Content shown here is copied form there and slightly altered to match the case. Since the entire assignment never tests machine failure, the fail initiation loop is left out the newly defined `gen` method.\n"
   ]
  },
  {
   "cell_type": "code",
   "execution_count": 6,
   "metadata": {},
   "outputs": [],
   "source": [
    "class ToteGenerator(cp.Generator):\n",
    "    def __init__(self, env, ta, runenv, lots, stations, priority = lambda: 0, column = lambda: 0):\n",
    "        super().__init__(env, ta, runenv, lots, stations, priority)\n",
    "        self.column = column\n",
    "    def gen(self, env, method = \"Time\", lots_max = None) -> None:\n",
    "        if (method == \"Time\"):\n",
    "            cond = lambda: 1\n",
    "        elif (method == \"n-processed\"):\n",
    "            cond = lambda: (len(self.lots) < lots_max)\n",
    "        elif (method == \"n-generated\"):\n",
    "            cond = lambda: (lot_ID < lots_max)\n",
    "        lot_ID: int = 0  \n",
    "        while (cond()):\n",
    "            lot = (lot_ID, self.priority(), self.column())\n",
    "            self.env.process(self.runenv(env, lot, self.stations))             \n",
    "            yield env.timeout(self.ta())\n",
    "            lot_ID += 1"
   ]
  },
  {
   "cell_type": "code",
   "execution_count": 7,
   "metadata": {},
   "outputs": [],
   "source": [
    "G = ToteGenerator(\n",
    "            env = env,\n",
    "            ta = lambda: rd.expovariate((arrive)**(-1)),   \n",
    "            stations = workstations, \n",
    "            runenv = runenv,\n",
    "            lots = totes,\n",
    "            column = lambda: rd.randint(1, depth)         #See https://numpy.org/doc/stable/reference/random/generated/numpy.random.randint.html#numpy.random.randint\n",
    ")"
   ]
  },
  {
   "cell_type": "markdown",
   "metadata": {},
   "source": [
    "### Simulation\n"
   ]
  },
  {
   "cell_type": "code",
   "execution_count": 8,
   "metadata": {},
   "outputs": [],
   "source": [
    "cp.simulate(env = env ,\n",
    "            generator = G,\n",
    "            method = \"n-generated\",\n",
    "            lots_max = number_of_orders)"
   ]
  },
  {
   "cell_type": "markdown",
   "metadata": {},
   "source": [
    "### Output\n",
    "(Note: $\\chi Py$ works by default with the term `lots` for an item going through a system.)\n",
    "\n",
    "All Data Tables are disabled, since these tables have a `number_of_orders` amount of rows."
   ]
  },
  {
   "cell_type": "code",
   "execution_count": 9,
   "metadata": {},
   "outputs": [
    {
     "name": "stdout",
     "output_type": "stream",
     "text": [
      "\n",
      "============================================================\n",
      "SIMULATION SUMMARY\n",
      "============================================================\n",
      "\n",
      "The average flow time equals 0.0\n",
      "The standard deviation of the flow time equals 0.0\n",
      "The variability of the flow time equals nan\n",
      "The amount of products that passed through the run environment is 10000 in 702968.5803835165 time units\n",
      "\n",
      "============================================================\n"
     ]
    },
    {
     "name": "stderr",
     "output_type": "stream",
     "text": [
      "C:\\Users\\20181805\\Documents\\ChiPy\\AOPS Assignment - V2\\chipy\\functions\\prints\\stats.py:86: RuntimeWarning: invalid value encountered in double_scalars\n",
      "  print(f'The variability of the flow time equals {np.std(phi)/np.nanmean(phi)}')\n"
     ]
    }
   ],
   "source": [
    "cp.stats(lots = totes, \n",
    "        t_start = t_arr,\n",
    "        t_end = t_exit,\n",
    "        sim_time = t_exit[-1][1],\n",
    "        generate_table = False)"
   ]
  },
  {
   "cell_type": "markdown",
   "metadata": {},
   "source": [
    "## Part 3 | Vehicle as machine"
   ]
  },
  {
   "cell_type": "code",
   "execution_count": 10,
   "metadata": {},
   "outputs": [],
   "source": [
    "%reset -f"
   ]
  },
  {
   "cell_type": "markdown",
   "metadata": {},
   "source": [
    "### Imports"
   ]
  },
  {
   "cell_type": "code",
   "execution_count": 11,
   "metadata": {},
   "outputs": [],
   "source": [
    "import sys\n",
    "#!{sys.executable} -m pip install simpy\n",
    "#import simpy \n",
    "import numpy as np\n",
    "import pandas as pd\n",
    "import random as rd\n",
    "import os\n",
    "import sys\n",
    "import matplotlib.pyplot as plt\n",
    "import chipy as cp"
   ]
  },
  {
   "cell_type": "markdown",
   "metadata": {},
   "source": [
    "### Model Variables"
   ]
  },
  {
   "cell_type": "code",
   "execution_count": 12,
   "metadata": {},
   "outputs": [],
   "source": [
    "arrive: float = 70                                          # Rate of arrival\n",
    "depth: int = 55                                             # The number of columns\n",
    "number_of_orders: int = 10000                               # Number of orders to process        \n",
    "totes: list = []                                            # List of processed orders\n",
    "inf = float(\"inf\")                                          # Infinity\n",
    "env = cp.environment()                                      # Initiate Environment "
   ]
  },
  {
   "cell_type": "markdown",
   "metadata": {},
   "source": [
    "### Workstations\n",
    "Now the Vehicle will be modeled as a machine. This means a `te` value will now be assigned according to the assignment. This is a determinsitic time of `40`."
   ]
  },
  {
   "cell_type": "code",
   "execution_count": 13,
   "metadata": {},
   "outputs": [],
   "source": [
    "workstations = {\n",
    "            \"Vehicle\": cp.Station(env = env, te = lambda: 40, delta = (arrive))\n",
    "    }"
   ]
  },
  {
   "cell_type": "markdown",
   "metadata": {},
   "source": [
    "### Run Environment (`runenv`)"
   ]
  },
  {
   "cell_type": "code",
   "execution_count": 14,
   "metadata": {},
   "outputs": [],
   "source": [
    "t_arr: list = []     # Arrive times of totes\n",
    "t_exit: list = []    # Exit times of totes\n",
    "def runenv(env, tote, workstations):\n",
    "    arr = env.now\n",
    "    t_arr.append([tote[0], arr])\n",
    "    yield env.process(workstations[\"Vehicle\"].proc(tote))  \n",
    "    end = env.now\n",
    "    t_exit.append([tote[0], end])\n",
    "    totes.append(tote)"
   ]
  },
  {
   "cell_type": "markdown",
   "metadata": {},
   "source": [
    "### Generator"
   ]
  },
  {
   "cell_type": "code",
   "execution_count": 15,
   "metadata": {},
   "outputs": [],
   "source": [
    "class ToteGenerator(cp.Generator):\n",
    "    def __init__(self, env, ta, runenv, lots, stations, priority = lambda: 0, column = lambda: 0):\n",
    "        super().__init__(env, ta, runenv, lots, stations, priority)\n",
    "        self.column = column\n",
    "    def gen(self, env, method = \"Time\", lots_max = None) -> None:\n",
    "        if (method == \"Time\"):\n",
    "            cond = lambda: 1\n",
    "        elif (method == \"n-processed\"):\n",
    "            cond = lambda: (len(self.lots) < lots_max)\n",
    "        elif (method == \"n-generated\"):\n",
    "            cond = lambda: (lot_ID < lots_max)\n",
    "        lot_ID: int = 0  \n",
    "        while (cond()):\n",
    "            lot = (lot_ID, self.priority(), self.column())\n",
    "            self.env.process(self.runenv(env, lot, self.stations))             \n",
    "            yield env.timeout(self.ta())\n",
    "            lot_ID += 1"
   ]
  },
  {
   "cell_type": "code",
   "execution_count": 16,
   "metadata": {},
   "outputs": [],
   "source": [
    "G = ToteGenerator(\n",
    "            env = env,\n",
    "            ta = lambda: rd.expovariate((arrive)**(-1)),   \n",
    "            stations = workstations, \n",
    "            runenv = runenv,\n",
    "            lots = totes,\n",
    "            column = lambda: rd.randint(1, depth)         #See https://numpy.org/doc/stable/reference/random/generated/numpy.random.randint.html#numpy.random.randint\n",
    ")"
   ]
  },
  {
   "cell_type": "markdown",
   "metadata": {},
   "source": [
    "### Simulation"
   ]
  },
  {
   "cell_type": "code",
   "execution_count": 17,
   "metadata": {},
   "outputs": [],
   "source": [
    "cp.simulate(env = env ,\n",
    "            generator = G,\n",
    "            method = \"n-generated\",\n",
    "            lots_max = number_of_orders)"
   ]
  },
  {
   "cell_type": "markdown",
   "metadata": {},
   "source": [
    "### Output"
   ]
  },
  {
   "cell_type": "code",
   "execution_count": 18,
   "metadata": {
    "scrolled": true
   },
   "outputs": [
    {
     "name": "stdout",
     "output_type": "stream",
     "text": [
      "\n",
      "============================================================\n",
      "SIMULATION SUMMARY\n",
      "============================================================\n",
      "\n",
      "The average flow time equals 67.24724098339088\n",
      "The standard deviation of the flow time equals 38.041717611862\n",
      "The variability of the flow time equals 0.5656993068497452\n",
      "The amount of products that passed through the run environment is 10000 in 703825.1705427187 time units\n",
      "\n",
      "============================================================\n"
     ]
    }
   ],
   "source": [
    "cp.stats(lots = totes, \n",
    "        t_start = t_arr,\n",
    "        t_end = t_exit,\n",
    "        sim_time = t_exit[-1][1],\n",
    "        generate_table = False)"
   ]
  },
  {
   "cell_type": "markdown",
   "metadata": {},
   "source": [
    "## Part 4 |  Vehicle accurately modeled"
   ]
  },
  {
   "cell_type": "code",
   "execution_count": 19,
   "metadata": {},
   "outputs": [],
   "source": [
    "%reset -f"
   ]
  },
  {
   "cell_type": "markdown",
   "metadata": {},
   "source": [
    "### Imports"
   ]
  },
  {
   "cell_type": "code",
   "execution_count": 20,
   "metadata": {},
   "outputs": [],
   "source": [
    "import sys\n",
    "#!{sys.executable} -m pip install simpy\n",
    "#import simpy \n",
    "import numpy as np\n",
    "import pandas as pd\n",
    "import random as rd\n",
    "import os\n",
    "import sys\n",
    "import matplotlib.pyplot as plt\n",
    "import chipy as cp\n",
    "from math import sqrt"
   ]
  },
  {
   "cell_type": "markdown",
   "metadata": {},
   "source": [
    "### Model Variables"
   ]
  },
  {
   "cell_type": "code",
   "execution_count": 21,
   "metadata": {},
   "outputs": [],
   "source": [
    "arrive: float = 70                           # Rate of arrival\n",
    "depth: int = 55                              # The number of columns\n",
    "number_of_orders: int = 10000                # Number of orders to process\n",
    "lv: float = 3.0                              # Time to load/unload the vehicle\n",
    "dv: float = 0.5                              # Unit width clearance \n",
    "vmaxv: float = 1.5                           # Maximum velocity of the vehicle\n",
    "av: float = 1.0                              # Acceleration/deceleration of the vehicle\n",
    "totes: list = []                             # List of processed orders\n",
    "inf = float(\"inf\")                           # Infinity\n",
    "env = cp.environment()                       # Initiate Environment  "
   ]
  },
  {
   "cell_type": "markdown",
   "metadata": {},
   "source": [
    "### Workstations\n",
    "Since the process time `te` of a tote is now dependent on its column number, parsing the value trough at its initiation is not suitable for this case. Luckily, $\\chi Py$ supports lot-specifc process times out of the box. The process time can be left undetermined at initiation, but needs to be passed to thr station once a lot enters, which is done in the `runenv`."
   ]
  },
  {
   "cell_type": "code",
   "execution_count": 22,
   "metadata": {},
   "outputs": [],
   "source": [
    "workstations = {\n",
    "            \"Vehicle\": cp.Station(env = env, delta = (arrive))\n",
    "    }"
   ]
  },
  {
   "cell_type": "markdown",
   "metadata": {},
   "source": [
    "### Run Environment (`runenv`)"
   ]
  },
  {
   "cell_type": "code",
   "execution_count": 23,
   "metadata": {},
   "outputs": [],
   "source": [
    "t_arr: list = []     # Arrive times of totes\n",
    "t_exit: list = []    # Exit times of totes\n",
    "def runenv(env, tote, workstations):\n",
    "    arr = env.now\n",
    "    t_arr.append([tote[0], arr])\n",
    "#----------------------------------------------------------\n",
    "# VEHICLE\n",
    "#----------------------------------------------------------\n",
    "    dmin = (vmaxv**(2))/(av)\n",
    "    d = tote[2]*dv\n",
    "    if (d <= dmin):\n",
    "        t_travel = sqrt((4*d)/(av))\n",
    "    elif (d > dmin):\n",
    "        t_travel = (d-dmin)/(vmaxv) + (2*vmaxv)/(av)\n",
    "    te = 2*(t_travel + lv)\n",
    "    \n",
    "    yield env.process(workstations[\"Vehicle\"].proc(lot=tote,te=lambda: te))  \n",
    "    end = env.now\n",
    "    t_exit.append([tote[0], end])\n",
    "    totes.append(tote)"
   ]
  },
  {
   "cell_type": "markdown",
   "metadata": {},
   "source": [
    "### Generator"
   ]
  },
  {
   "cell_type": "code",
   "execution_count": 24,
   "metadata": {},
   "outputs": [],
   "source": [
    "class ToteGenerator(cp.Generator):\n",
    "    def __init__(self, env, ta, runenv, lots, stations, priority = lambda: 0, column = lambda: 0):\n",
    "        super().__init__(env, ta, runenv, lots, stations, priority)\n",
    "        self.column = column\n",
    "    def gen(self, env, method = \"Time\", lots_max = None) -> None:\n",
    "        if (method == \"Time\"):\n",
    "            cond = lambda: 1\n",
    "        elif (method == \"n-processed\"):\n",
    "            cond = lambda: (len(self.lots) < lots_max)\n",
    "        elif (method == \"n-generated\"):\n",
    "            cond = lambda: (lot_ID < lots_max)\n",
    "        lot_ID: int = 0  \n",
    "        while (cond()):\n",
    "            lot = (lot_ID, self.priority(), self.column())\n",
    "            self.env.process(self.runenv(env, lot, self.stations))             \n",
    "            yield env.timeout(self.ta())\n",
    "            lot_ID += 1"
   ]
  },
  {
   "cell_type": "code",
   "execution_count": 25,
   "metadata": {},
   "outputs": [],
   "source": [
    "G = ToteGenerator(\n",
    "            env = env,\n",
    "            ta = lambda: rd.expovariate((arrive)**(-1)),   \n",
    "            stations = workstations, \n",
    "            runenv = runenv,\n",
    "            lots = totes,\n",
    "            column = lambda: rd.randint(1, depth)         #See https://numpy.org/doc/stable/reference/random/generated/numpy.random.randint.html#numpy.random.randint\n",
    ")"
   ]
  },
  {
   "cell_type": "markdown",
   "metadata": {},
   "source": [
    "### Simulation"
   ]
  },
  {
   "cell_type": "code",
   "execution_count": 26,
   "metadata": {},
   "outputs": [],
   "source": [
    "cp.simulate(env = env ,\n",
    "            generator = G,\n",
    "            method = \"n-generated\",\n",
    "            lots_max = number_of_orders)"
   ]
  },
  {
   "cell_type": "markdown",
   "metadata": {},
   "source": [
    "### Output"
   ]
  },
  {
   "cell_type": "code",
   "execution_count": 27,
   "metadata": {
    "scrolled": true
   },
   "outputs": [
    {
     "name": "stdout",
     "output_type": "stream",
     "text": [
      "\n",
      "============================================================\n",
      "SIMULATION SUMMARY\n",
      "============================================================\n",
      "\n",
      "The average flow time equals 38.17907824305325\n",
      "The standard deviation of the flow time equals 20.861513117667798\n",
      "The variability of the flow time equals 0.5464121733076044\n",
      "The amount of products that passed through the run environment is 10000 in 703804.3681310746 time units\n",
      "\n",
      "============================================================\n"
     ]
    }
   ],
   "source": [
    "cp.stats(lots = totes, \n",
    "        t_start = t_arr,\n",
    "        t_end = t_exit,\n",
    "        sim_time = t_exit[-1][1],\n",
    "        generate_table = False)"
   ]
  },
  {
   "cell_type": "markdown",
   "metadata": {},
   "source": [
    "## Part 5 + 6 |  Lift as two stage machine with single tier buffer\n",
    "\n",
    "* For **PART 5**: `bc = inf`\n",
    "* For **PART 6**: `bc = 1`"
   ]
  },
  {
   "cell_type": "code",
   "execution_count": 28,
   "metadata": {},
   "outputs": [],
   "source": [
    "%reset -f"
   ]
  },
  {
   "cell_type": "markdown",
   "metadata": {},
   "source": [
    "### Imports"
   ]
  },
  {
   "cell_type": "code",
   "execution_count": 29,
   "metadata": {},
   "outputs": [],
   "source": [
    "import sys\n",
    "#!{sys.executable} -m pip install simpy\n",
    "#import simpy \n",
    "import numpy as np\n",
    "import pandas as pd\n",
    "import random as rd\n",
    "import os\n",
    "import sys\n",
    "import matplotlib.pyplot as plt\n",
    "import chipy as cp\n",
    "from math import sqrt"
   ]
  },
  {
   "cell_type": "markdown",
   "metadata": {},
   "source": [
    "### Model Variables"
   ]
  },
  {
   "cell_type": "code",
   "execution_count": 30,
   "metadata": {},
   "outputs": [],
   "source": [
    "inf = float(\"inf\")                           # Infinity\n",
    "arrive: float = 70                           # Rate of arrival\n",
    "depth: int = 55                              # The number of columns\n",
    "lv: float = 3.0                              # Time to load/unload the vehicle\n",
    "dv: float = 0.5                              # Unit width clearance \n",
    "vmaxv: float = 1.5                           # Maximum velocity of the vehicle\n",
    "av: float = 1.0                              # Acceleration/deceleration of the vehicle\n",
    "ll: float = 2.0                              # Time to load/unload the lift\n",
    "tl: float = 23.0                             # Time to move the lift to its destination\n",
    "bc: int = 1                                  # Buffer capacity\n",
    "totes: list = []                             # List of processed orders\n",
    "env = cp.environment()                       # Initiate Environment "
   ]
  },
  {
   "cell_type": "markdown",
   "metadata": {},
   "source": [
    "### Workstations\n",
    "The way of modelling the lift is slightly different compared to the $\\chi3$ way. Since $\\chi Py$ works with the concept of resource occupation (and $\\chi3$ mainly with channels) we will model the lift with an `te` of `2(ll+tl)`. This way, the part of \"informing the lift to go to tier x\" already counts as resource occupation, since a single tote specifically requests the list pick it up."
   ]
  },
  {
   "cell_type": "code",
   "execution_count": 31,
   "metadata": {},
   "outputs": [],
   "source": [
    "workstations = {\n",
    "            \"Vehicle\": cp.Station(env = env, te = lambda: 0, delta = (arrive)),\n",
    "            \"Lift\": cp.Station(env = env, te = lambda: 2*(ll + tl), delta = (arrive), queuesize = bc)\n",
    "    }"
   ]
  },
  {
   "cell_type": "markdown",
   "metadata": {},
   "source": [
    "### Run Environment (`runenv`)\n",
    "To make finite buffers work properly (a generator cannot hold products), the vehicle with process time zero is put inbetween, that has a proper release hold control action when the upcoming buffer is full. "
   ]
  },
  {
   "cell_type": "code",
   "execution_count": 32,
   "metadata": {},
   "outputs": [],
   "source": [
    "t_arr: list = []     # Arrive times of totes\n",
    "t_exit: list = []    # Exit times of totes\n",
    "    \n",
    "def runenv(env, tote, workstations):\n",
    "    arr = env.now\n",
    "    t_arr.append([tote[0], arr])\n",
    "    \n",
    "#----------------------------------------------------------\n",
    "# VEHICLE (NOTE: NOT MODELLED IN THIS PART!)\n",
    "#----------------------------------------------------------\n",
    "    \n",
    "    yield env.process(workstations[\"Vehicle\"].proc(lot=tote,us=workstations[\"Lift\"])) \n",
    "    \n",
    "#----------------------------------------------------------\n",
    "# LIFT\n",
    "#----------------------------------------------------------\n",
    "    \n",
    "    print(\"Generator: Tote %s Informed Lift to go to tier %s at time %s\" % (tote[0],tote[2], env.now))\n",
    "    yield env.process(workstations[\"Lift\"].proc(tote))  \n",
    "    print(\"Exit: Tote %s has completely left the Lift and has been received by the Exit at time %s\" % (tote[0], env.now));\n",
    "    \n",
    "    end = env.now\n",
    "    t_exit.append([tote[0], end])\n",
    "    totes.append(tote)\n"
   ]
  },
  {
   "cell_type": "markdown",
   "metadata": {},
   "source": [
    "### Generator\n",
    "In this part, the generator works quite a bit different compared to the other cases. See the assignment template `chi` code. Note that the Lift has to travel to pickup the tote first, then travels back to drop the tote at the desired location. Then it waits till the new tote arrives and moves back to pick it up. Since we will eventually need columns, they are still left in the generator, in contrast to the `chi` template shown in the assignment.\n",
    "\n",
    "Note that the case here is modelled slightly different. Where the $\\chi3$ model starts the delay once the lift has completed its process, the delay in the case of the `ToteGenerator` is done per tote generation, like a rate of arrival. If one wants to wait till the lift has completed its process, the `self.env.process(self.runenv(env, lot, self.stations))` statement has to be yielded. The output still seems to be a bit off in the favour of the $\\chi Py$'s implementation: It properly does the second delay of the list (`10`) instead of a delay of zero (in the case of the $\\chi3$ template). Note however, that using the provided delay list (that $\\chi Py$ handles properly in comparison to $\\chi 3$) the buffer capacity of the Lift buffer is never reached (since the process time of the lift is determisnistically 23). This can indeed be seen when running the simulation for both values of `bc` (`inf` and `1`) \n",
    "\n",
    "Also note that the second print the $\\chi3$ tempate has is not present here. It can, however, be added by inheriting the `chipy.Station` `class` and rewriting the `run` method, splitting its timeout in 2 separate timeouts of `(ll + tl)` and to print the missing statment between the two timeouts.\n",
    "\n"
   ]
  },
  {
   "cell_type": "code",
   "execution_count": 33,
   "metadata": {},
   "outputs": [],
   "source": [
    "class ToteGenerator(cp.Generator):\n",
    "    def __init__(self, env, ta, runenv, lots, stations, priority = lambda: 0, column = lambda: 0, tier = lambda: 1):\n",
    "        super().__init__(env, ta, runenv, lots, stations, priority)\n",
    "        self.column = column\n",
    "        self.tier = tier\n",
    "        self.delays = [1.0, 10.0, 100.0, 100.0]\n",
    "        \n",
    "    def gen(self, env, lots_max = \"NaN\") -> None:\n",
    "        lot_ID: int = 0\n",
    "        while (len(self.delays) > 0): \n",
    "            yield env.timeout(self.delays[0])\n",
    "            self.delays = self.delays[1:]\n",
    "            lot = (lot_ID, self.column(), self.tier())\n",
    "            self.env.process(self.runenv(env, lot, self.stations))             \n",
    "            lot_ID += 1"
   ]
  },
  {
   "cell_type": "code",
   "execution_count": 34,
   "metadata": {},
   "outputs": [],
   "source": [
    "G = ToteGenerator(\n",
    "            env = env,\n",
    "            ta = lambda: rd.expovariate((arrive)**(-1)),   \n",
    "            stations = workstations, \n",
    "            runenv = runenv,\n",
    "            lots = totes,\n",
    "            column = lambda: rd.randint(1, depth+1),\n",
    "            tier = lambda: 1\n",
    ")"
   ]
  },
  {
   "cell_type": "markdown",
   "metadata": {},
   "source": [
    "### Simulation\n",
    "In this case, the simulation method does not fit any of the three methods the `cp.simulate` method allows, since the `ToteGenerator` is altered such to only handle the specific required case. Therefore, the environments `run` method has to be called manually."
   ]
  },
  {
   "cell_type": "code",
   "execution_count": 35,
   "metadata": {},
   "outputs": [
    {
     "name": "stdout",
     "output_type": "stream",
     "text": [
      "Generator: Tote 0 Informed Lift to go to tier 1 at time 1.0\n",
      "Exit: Tote 0 has completely left the Lift and has been received by the Exit at time 51.0\n",
      "Generator: Tote 1 Informed Lift to go to tier 1 at time 51.0\n",
      "Exit: Tote 1 has completely left the Lift and has been received by the Exit at time 101.0\n",
      "Generator: Tote 2 Informed Lift to go to tier 1 at time 111.0\n",
      "Exit: Tote 2 has completely left the Lift and has been received by the Exit at time 161.0\n",
      "Generator: Tote 3 Informed Lift to go to tier 1 at time 211.0\n",
      "Exit: Tote 3 has completely left the Lift and has been received by the Exit at time 261.0\n"
     ]
    }
   ],
   "source": [
    "event = env.process(G.gen(env))\n",
    "env.run()"
   ]
  },
  {
   "cell_type": "markdown",
   "metadata": {},
   "source": [
    "### Output\n",
    "Outputting is handled via `runenv` in this case. See the print of the Simulation section. As extra, to check finite buffer behaviour, the `stats` method will also be called below. Note that the second tote (ID = 1) has a larger flow time, since the lift still needs 40 time units to process the first tote (ID = 0). This is thus expected behaviour."
   ]
  },
  {
   "cell_type": "code",
   "execution_count": 36,
   "metadata": {},
   "outputs": [
    {
     "name": "stdout",
     "output_type": "stream",
     "text": [
      "\n",
      "============================================================\n",
      "SIMULATION SUMMARY\n",
      "============================================================\n",
      "\n",
      "The average flow time equals 60.0\n",
      "The standard deviation of the flow time equals 17.320508075688775\n",
      "The variability of the flow time equals 0.2886751345948129\n",
      "The amount of products that passed through the run environment is 4 in 261.0 time units\n",
      "\n",
      "============================================================\n",
      "FLOW TIME PER LOT ID\n",
      "============================================================\n",
      "\n",
      " Lot ID  Flow Time  Entry Time\n",
      "      0       50.0         1.0\n",
      "      1       90.0        11.0\n",
      "      2       50.0       111.0\n",
      "      3       50.0       211.0\n",
      "\n",
      "(This table is also saved as /data/phi_data.csv)\n",
      "\n",
      "============================================================\n"
     ]
    }
   ],
   "source": [
    "cp.stats(lots = totes, \n",
    "        t_start = t_arr,\n",
    "        t_end = t_exit,\n",
    "        sim_time = t_exit[-1][1],\n",
    "        generate_table = True)"
   ]
  },
  {
   "attachments": {
    "image.png": {
     "image/png": "[encoded data removed]"
    }
   },
   "cell_type": "markdown",
   "metadata": {},
   "source": [
    "## Part 7 |  Buffer with multiple tiers\n",
    "The figure below shows the model with tiers.\n",
    "\n",
    "![image.png](attachment:image.png)\n",
    "\n",
    "(Note: in Part 7, the vehicle is still left out!) \n",
    "\n",
    "Only 1 generator will (and can) be used, due to the nature of $\\chi Py$. Each Tier will be modelled as a separate dictionary, all stored in a list. Since a `tote` is a tuple with a field that describes its tier, `runenv` can select the proper dict from the Tiers list to use. This also immediatly shows the power of the `runenv` method: as long as it is possible in Python, a lot (in this case tote) can take any path desirable!\n",
    "\n",
    "The buffer will be modeled as a shared buffer with **total** capacity `bc`. Therefore this part is a bit different compared to its $\\chi3$ counterpart. Due to the resource concept $\\chi Py$ is build upon, a buffer (queue) is always linked to a station's process, and cannot be decoupled!  \n"
   ]
  },
  {
   "cell_type": "code",
   "execution_count": 37,
   "metadata": {},
   "outputs": [],
   "source": [
    "%reset -f"
   ]
  },
  {
   "cell_type": "markdown",
   "metadata": {},
   "source": [
    "### Imports"
   ]
  },
  {
   "cell_type": "code",
   "execution_count": 38,
   "metadata": {},
   "outputs": [],
   "source": [
    "from math import sqrt\n",
    "import sys\n",
    "import simpy\n",
    "import numpy as np\n",
    "import pandas as pd\n",
    "import random as rd\n",
    "import os\n",
    "import sys\n",
    "import matplotlib.pyplot as plt\n",
    "import chipy as cp"
   ]
  },
  {
   "cell_type": "markdown",
   "metadata": {},
   "source": [
    "### Model Variables"
   ]
  },
  {
   "cell_type": "code",
   "execution_count": 39,
   "metadata": {},
   "outputs": [],
   "source": [
    "inf = float(\"inf\")                           # Infinity\n",
    "arrive: float = 70                           # Rate of arrival\n",
    "depth: int = 55                              # The number of columns\n",
    "lv: float = 3.0                              # Time to load/unload the vehicle\n",
    "dv: float = 0.5                              # Unit width clearance \n",
    "vmaxv: float = 1.5                           # Maximum velocity of the vehicle\n",
    "av: float = 1.0                              # Acceleration/deceleration of the vehicle\n",
    "ll: float = 2.0                              # Time to load/unload the lift\n",
    "tl: float = 23.0                             # Time to move the lift to its destination\n",
    "bc: int = 1                                  # Buffer capacity\n",
    "Level: int = 2                               # The number of tiers\n",
    "totes: list = []                             # List of processed orders\n",
    "env = cp.environment()                       # Initiate Environment "
   ]
  },
  {
   "cell_type": "markdown",
   "metadata": {},
   "source": [
    "### Workstations\n",
    "First, a \"shared\" lift will be initiated. Next, a single tier is formed using a `dict` (like the general workstation dictionaries). This dictionary will be re-initiated `Level` times. Since the Lift is defined before this loop, its Generator Object ID will be the same in each Tier. In essence, the lift is therefore shared over all tiers.\n",
    "\n",
    "In contrast to the assigment, the Vehicle will already be implemented in the tiers. Its bufferlength is `inf` and `te = 0`. The reason why it is still already implemented is to test of the concept of sending totes in the desired tiers actually works. \n",
    "\n",
    "The last three prints are to check if each tier is initiated properly. Note that the lift obejct is identical in both tiers!"
   ]
  },
  {
   "cell_type": "code",
   "execution_count": 40,
   "metadata": {},
   "outputs": [
    {
     "name": "stdout",
     "output_type": "stream",
     "text": [
      "2\n",
      "{'Vehicle': <chipy.processes.station.Station object at 0x000001D25E1E4130>, 'Lift': <chipy.processes.station.Station object at 0x000001D25E1E4100>}\n",
      "{'Vehicle': <chipy.processes.station.Station object at 0x000001D25E1E4250>, 'Lift': <chipy.processes.station.Station object at 0x000001D25E1E4100>}\n"
     ]
    }
   ],
   "source": [
    "Lift = cp.Station(env = env, te = lambda: 2*(ll + tl), delta = (arrive), queuesize = bc)\n",
    "Tiers = []\n",
    "\n",
    "for j in range(0,Level,1):\n",
    "    Tiers.append({\n",
    "        \"Vehicle\": cp.Station(env = env, te = lambda: 0, delta = (arrive)),\n",
    "        \"Lift\": Lift\n",
    "    })\n",
    "print(len(Tiers))\n",
    "print(Tiers[0])\n",
    "print(Tiers[1])"
   ]
  },
  {
   "cell_type": "markdown",
   "metadata": {},
   "source": [
    "### Run Environment (`runenv`)\n"
   ]
  },
  {
   "cell_type": "code",
   "execution_count": 41,
   "metadata": {},
   "outputs": [],
   "source": [
    "t_arr: list = []     # Arrive times of totes\n",
    "t_exit: list = []    # Exit times of totes\n",
    "    \n",
    "def runenv(env, tote, Tiers):\n",
    "    arr = env.now\n",
    "    t_arr.append([tote[0], arr])\n",
    "    \n",
    "    tier = tote[2] - 1\n",
    "    \n",
    "#----------------------------------------------------------\n",
    "# VEHICLE \n",
    "#----------------------------------------------------------\n",
    "    \n",
    "    yield env.process(Tiers[tier][\"Vehicle\"].proc(tote, Tiers[tier][\"Lift\"]))\n",
    "    \n",
    "#----------------------------------------------------------\n",
    "# LIFT\n",
    "#----------------------------------------------------------\n",
    "    \n",
    "    print(\"Generator: Tote %s Informed Lift to go to tier %s at time %s\" % (tote[0],tote[2], env.now))\n",
    "    yield env.process(Tiers[tier][\"Lift\"].proc(tote))  \n",
    "    print(\"Exit: Tote %s has completely left the Lift and has been received by the Exit at time %s\" % (tote[0], env.now));\n",
    "    \n",
    "    end = env.now\n",
    "    t_exit.append([tote[0], end])\n",
    "    totes.append(tote)"
   ]
  },
  {
   "cell_type": "markdown",
   "metadata": {},
   "source": [
    "### Generator\n",
    "Note that the behaviour of this generator is slightly different than the $\\chi3$ equivalent! Where the $\\chi3$ version generates 2 products per tier `1` time unit apart, this version takes the delays as usual and randomly generates a corresponding lot tier. For a similar approach to the $\\chi3$ variant, take a look at the generator of exersice 9. The way it handles per tier generation can be used here as well. The `1` time unit delay per tier generation can be added as a `env.timeout(1)` within the nested tier generation loop.  \n",
    "\n",
    "In Part 8, it is chosen to model the generator exactly as in the $\\chi3$ equivalent! In this exersice it has however been left as is, to model/test different generation methods and check if $\\chi Py$ gives expected results in both cases!"
   ]
  },
  {
   "cell_type": "code",
   "execution_count": 42,
   "metadata": {},
   "outputs": [],
   "source": [
    "class ToteGenerator(cp.Generator):\n",
    "    def __init__(self, env, ta, runenv, lots, stations, priority = lambda: 0, column = lambda: 0, tier = lambda: 1):\n",
    "        super().__init__(env, ta, runenv, lots, stations, priority)\n",
    "        self.column = column\n",
    "        self.tier = tier\n",
    "        self.delays = [1.0, 10.0, 100.0, 100.0]\n",
    "        \n",
    "    def gen(self, env, lots_max = \"NaN\") -> None:\n",
    "        lot_ID: int = 0\n",
    "        while (len(self.delays) > 0):\n",
    "            yield env.timeout(self.delays[0])\n",
    "            self.delays = self.delays[1:]\n",
    "            lot = (lot_ID, self.column(), self.tier())\n",
    "            self.env.process(self.runenv(env, lot, self.stations))             \n",
    "            lot_ID += 1"
   ]
  },
  {
   "cell_type": "code",
   "execution_count": 43,
   "metadata": {},
   "outputs": [],
   "source": [
    "G = ToteGenerator(\n",
    "            env = env,\n",
    "            ta = lambda: rd.expovariate((arrive)**(-1)),   \n",
    "            stations = Tiers, \n",
    "            runenv = runenv,\n",
    "            lots = totes,\n",
    "            column = lambda: rd.randint(1, depth+1),\n",
    "            tier = lambda: rd.randint(1, Level)\n",
    ")"
   ]
  },
  {
   "cell_type": "markdown",
   "metadata": {},
   "source": [
    "### Simulation"
   ]
  },
  {
   "cell_type": "code",
   "execution_count": 44,
   "metadata": {
    "scrolled": true
   },
   "outputs": [
    {
     "name": "stdout",
     "output_type": "stream",
     "text": [
      "Generator: Tote 0 Informed Lift to go to tier 1 at time 1.0\n",
      "Exit: Tote 0 has completely left the Lift and has been received by the Exit at time 51.0\n",
      "Generator: Tote 1 Informed Lift to go to tier 2 at time 51.0\n",
      "Exit: Tote 1 has completely left the Lift and has been received by the Exit at time 101.0\n",
      "Generator: Tote 2 Informed Lift to go to tier 1 at time 111.0\n",
      "Exit: Tote 2 has completely left the Lift and has been received by the Exit at time 161.0\n",
      "Generator: Tote 3 Informed Lift to go to tier 2 at time 211.0\n",
      "Exit: Tote 3 has completely left the Lift and has been received by the Exit at time 261.0\n"
     ]
    }
   ],
   "source": [
    "event = env.process(G.gen(env))\n",
    "env.run()"
   ]
  },
  {
   "cell_type": "markdown",
   "metadata": {},
   "source": [
    "### Output\n",
    "Outputting is handled via `runenv` in this case. See the print of the Simulation section. As extra, The `stats` method will also be called below. Note that due to the chosen generation method, the output is the same as in Exersice 6."
   ]
  },
  {
   "cell_type": "code",
   "execution_count": 45,
   "metadata": {},
   "outputs": [
    {
     "name": "stdout",
     "output_type": "stream",
     "text": [
      "\n",
      "============================================================\n",
      "SIMULATION SUMMARY\n",
      "============================================================\n",
      "\n",
      "The average flow time equals 60.0\n",
      "The standard deviation of the flow time equals 17.320508075688775\n",
      "The variability of the flow time equals 0.2886751345948129\n",
      "The amount of products that passed through the run environment is 4 in 261.0 time units\n",
      "\n",
      "============================================================\n",
      "FLOW TIME PER LOT ID\n",
      "============================================================\n",
      "\n",
      " Lot ID  Flow Time  Entry Time\n",
      "      0       50.0         1.0\n",
      "      1       90.0        11.0\n",
      "      2       50.0       111.0\n",
      "      3       50.0       211.0\n",
      "\n",
      "(This table is also saved as /data/phi_data.csv)\n",
      "\n",
      "============================================================\n"
     ]
    }
   ],
   "source": [
    "cp.stats(lots = totes, \n",
    "        t_start = t_arr,\n",
    "        t_end = t_exit,\n",
    "        sim_time = t_exit[-1][1],\n",
    "        generate_table = True)"
   ]
  },
  {
   "cell_type": "markdown",
   "metadata": {},
   "source": [
    "## Part 8 |   Lift accurately modelled\n",
    "This is essentially the same as Part 7, but just like with the `Vehicle`, now `te` will be calculated (based on its velocity and acceleration profile) beforehand to model the lift accuratly. "
   ]
  },
  {
   "cell_type": "code",
   "execution_count": 46,
   "metadata": {},
   "outputs": [],
   "source": [
    "%reset -f"
   ]
  },
  {
   "cell_type": "markdown",
   "metadata": {},
   "source": [
    "### Imports"
   ]
  },
  {
   "cell_type": "code",
   "execution_count": 47,
   "metadata": {},
   "outputs": [],
   "source": [
    "from math import sqrt\n",
    "import sys\n",
    "import simpy\n",
    "import numpy as np\n",
    "import pandas as pd\n",
    "import random as rd\n",
    "import os\n",
    "import sys\n",
    "import matplotlib.pyplot as plt\n",
    "import chipy as cp"
   ]
  },
  {
   "cell_type": "markdown",
   "metadata": {},
   "source": [
    "### Model Variables"
   ]
  },
  {
   "cell_type": "code",
   "execution_count": 48,
   "metadata": {},
   "outputs": [],
   "source": [
    "inf = float(\"inf\")                           # Infinity\n",
    "arrive: float = 70                           # Rate of arrival\n",
    "depth: int = 55                              # The number of columns\n",
    "lv: float = 3.0                              # Time to load/unload the vehicle\n",
    "dv: float = 0.5                              # Unit width clearance \n",
    "vmaxv: float = 1.5                           # Maximum velocity of the vehicle\n",
    "av: float = 1.0                              # Acceleration/deceleration of the vehicle\n",
    "ll: float = 2.0                              # Time to load/unload the lift\n",
    "al: float = 7.0                              # Acceleration/deceleration of lift\n",
    "dl: float = 0.8                              # Unit height clearance\n",
    "vmaxl: float = 5.0                           # Maximum velocity of lift     \n",
    "bc: int = 1                                  # Buffer capacity\n",
    "Level: int = 2                               # The number of tiers\n",
    "totes: list = []                             # List of processed orders\n",
    "env = cp.environment()                       # Initiate Environment "
   ]
  },
  {
   "cell_type": "markdown",
   "metadata": {},
   "source": [
    "### Workstations\n",
    "Note that in this part, the Vehicle is still not modelled. This will be done in Part 9, where all simulation bits are put together."
   ]
  },
  {
   "cell_type": "code",
   "execution_count": 49,
   "metadata": {},
   "outputs": [],
   "source": [
    "Lift = cp.Station(env = env, delta = (arrive))\n",
    "Tiers = []\n",
    "\n",
    "for j in range(0,Level,1):\n",
    "    Tiers.append({\n",
    "        \"Vehicle\": cp.Station(env = env, te = lambda: 0, delta = (arrive)),\n",
    "        \"Lift\": Lift\n",
    "    })"
   ]
  },
  {
   "cell_type": "markdown",
   "metadata": {},
   "source": [
    "### Run Environment (`runenv`)\n"
   ]
  },
  {
   "cell_type": "code",
   "execution_count": 50,
   "metadata": {},
   "outputs": [],
   "source": [
    "t_arr: list = []     # Arrive times of totes\n",
    "t_exit: list = []    # Exit times of totes\n",
    "    \n",
    "def runenv(env, tote, Tiers):\n",
    "    arr = env.now\n",
    "    t_arr.append([tote[0], arr])\n",
    "    \n",
    "    tier = tote[2] - 1\n",
    "    \n",
    "#----------------------------------------------------------\n",
    "# VEHICLE \n",
    "#----------------------------------------------------------\n",
    "    \n",
    "    yield env.process(Tiers[tier][\"Vehicle\"].proc(tote, Tiers[tier][\"Lift\"]))\n",
    "    \n",
    "#----------------------------------------------------------\n",
    "# LIFT\n",
    "#----------------------------------------------------------\n",
    "    \n",
    "    dminl = (vmaxl**2)/(al)\n",
    "    d_lift = (tote[2])*dl\n",
    "    if (d_lift <= dminl):\n",
    "        t_travel_lift = sqrt(4*d_lift/al)\n",
    "    elif (d_lift > dminl):\n",
    "        t_travel_lift = (d_lift-dminl)/vmaxl + (2*vmaxl)/al\n",
    "    te_lift = 2*(ll + t_travel_lift)\n",
    "    \n",
    "    print(\"Generator: Tote %s Informed Lift to go to tier %s at time %s\" % (tote[0],tote[2], env.now))\n",
    "    yield env.process(Tiers[tier][\"Lift\"].proc(lot = tote,te = lambda: te_lift))  \n",
    "    print(\"Exit: Tote %s has completely left the Lift and has been received by the Exit at time %s\" % (tote[0], env.now));\n",
    "    \n",
    "    end = env.now\n",
    "    t_exit.append([tote[0], end])\n",
    "    totes.append(tote)"
   ]
  },
  {
   "cell_type": "markdown",
   "metadata": {},
   "source": [
    "### Generator\n",
    "Note that the behaviour of this generator is different compared to exersice 7, and now corresponds better with the generator of the $\\chi Py$ equivalent! Also the results are (obviously) the same, meaning that the tiers to their work properly!"
   ]
  },
  {
   "cell_type": "code",
   "execution_count": 51,
   "metadata": {},
   "outputs": [],
   "source": [
    "class ToteGenerator(cp.Generator):\n",
    "    def __init__(self, env, ta, runenv, lots, stations, priority = lambda: 0, column = lambda: 0, tier = lambda: 1):\n",
    "        super().__init__(env, ta, runenv, lots, stations, priority)\n",
    "        self.column = column\n",
    "        self.tier = tier\n",
    "        self.delays = [10.0, 100.0, 100.0, 100.0]\n",
    "        \n",
    "    def gen(self, env, lots_max = \"NaN\") -> None:\n",
    "        lot_ID: int = 0\n",
    "        while (len(self.delays) > 0):\n",
    "            lot = (lot_ID, self.column(), self.tier[0])\n",
    "            self.env.process(self.runenv(env, lot, self.stations))\n",
    "            yield env.timeout(1)\n",
    "            lot_ID += 1\n",
    "            lot = (lot_ID, self.column(), self.tier[1])\n",
    "            self.env.process(self.runenv(env, lot, self.stations))\n",
    "            lot_ID += 1\n",
    "            yield env.timeout(self.delays[0]-1)\n",
    "            self.delays = self.delays[1:]"
   ]
  },
  {
   "cell_type": "code",
   "execution_count": 52,
   "metadata": {},
   "outputs": [],
   "source": [
    "G = ToteGenerator(\n",
    "            env = env,\n",
    "            ta = lambda: rd.expovariate((arrive)**(-1)),   \n",
    "            stations = Tiers, \n",
    "            runenv = runenv,\n",
    "            lots = totes,\n",
    "            column = lambda: rd.randint(1, depth+1),\n",
    "            tier = range(1, Level+1, 1)\n",
    ")"
   ]
  },
  {
   "cell_type": "markdown",
   "metadata": {},
   "source": [
    "### Simulation"
   ]
  },
  {
   "cell_type": "code",
   "execution_count": 53,
   "metadata": {
    "scrolled": true
   },
   "outputs": [
    {
     "name": "stdout",
     "output_type": "stream",
     "text": [
      "Generator: Tote 0 Informed Lift to go to tier 1 at time 0\n",
      "Generator: Tote 1 Informed Lift to go to tier 2 at time 1\n",
      "Exit: Tote 0 has completely left the Lift and has been received by the Exit at time 5.352246807565627\n",
      "Generator: Tote 2 Informed Lift to go to tier 1 at time 10.0\n",
      "Generator: Tote 3 Informed Lift to go to tier 2 at time 11.0\n",
      "Exit: Tote 1 has completely left the Lift and has been received by the Exit at time 11.264612582500657\n",
      "Exit: Tote 3 has completely left the Lift and has been received by the Exit at time 17.176978357435686\n",
      "Exit: Tote 2 has completely left the Lift and has been received by the Exit at time 22.529225165001314\n",
      "Generator: Tote 4 Informed Lift to go to tier 1 at time 110.0\n",
      "Generator: Tote 5 Informed Lift to go to tier 2 at time 111.0\n",
      "Exit: Tote 4 has completely left the Lift and has been received by the Exit at time 115.35224680756562\n",
      "Exit: Tote 5 has completely left the Lift and has been received by the Exit at time 121.26461258250065\n",
      "Generator: Tote 6 Informed Lift to go to tier 1 at time 210.0\n",
      "Generator: Tote 7 Informed Lift to go to tier 2 at time 211.0\n",
      "Exit: Tote 6 has completely left the Lift and has been received by the Exit at time 215.35224680756562\n",
      "Exit: Tote 7 has completely left the Lift and has been received by the Exit at time 221.26461258250066\n"
     ]
    }
   ],
   "source": [
    "event = env.process(G.gen(env))\n",
    "env.run()"
   ]
  },
  {
   "cell_type": "markdown",
   "metadata": {},
   "source": [
    "### Output\n",
    "Outputting is handled via `runenv` in this case. See the print of the Simulation section. As extra, The `stats` method will also be called below. Note that due to the chosen generation method, the output is the same as in Exersice 6. Again, look at exersice 9's generator to model it like the $\\chi3$ equivalent."
   ]
  },
  {
   "cell_type": "code",
   "execution_count": 54,
   "metadata": {},
   "outputs": [
    {
     "name": "stdout",
     "output_type": "stream",
     "text": [
      "\n",
      "============================================================\n",
      "SIMULATION SUMMARY\n",
      "============================================================\n",
      "\n",
      "The average flow time equals 8.19459771157948\n",
      "The standard deviation of the flow time equals 2.7375067054786246\n",
      "The variability of the flow time equals 0.334062366674859\n",
      "The amount of products that passed through the run environment is 8 in 221.26461258250066 time units\n",
      "\n",
      "============================================================\n",
      "FLOW TIME PER LOT ID\n",
      "============================================================\n",
      "\n",
      " Lot ID  Flow Time  Entry Time\n",
      "      0   5.352247         0.0\n",
      "      1  10.264613         1.0\n",
      "      3   6.176978        11.0\n",
      "      2  12.529225        10.0\n",
      "      4   5.352247       110.0\n",
      "      5  10.264613       111.0\n",
      "      6   5.352247       210.0\n",
      "      7  10.264613       211.0\n",
      "\n",
      "(This table is also saved as /data/phi_data.csv)\n",
      "\n",
      "============================================================\n"
     ]
    }
   ],
   "source": [
    "cp.stats(lots = totes, \n",
    "        t_start = t_arr,\n",
    "        t_end = t_exit,\n",
    "        sim_time = t_exit[-1][1],\n",
    "        generate_table = True)"
   ]
  },
  {
   "cell_type": "markdown",
   "metadata": {},
   "source": [
    "## Part 9 | Entire system\n",
    "In this final part, the entire system will be modelled with a \"normal\" `ta` (instead of the delay list). Since we work with a single Generator (since $\\chi Py$ only works with one), it has to be altered to generate totes at the correct rate for the correct Tier. This is done by extending the `chipy.Generator.gen` method.  "
   ]
  },
  {
   "cell_type": "code",
   "execution_count": 55,
   "metadata": {},
   "outputs": [],
   "source": [
    "%reset -f"
   ]
  },
  {
   "cell_type": "markdown",
   "metadata": {},
   "source": [
    "### Imports"
   ]
  },
  {
   "cell_type": "code",
   "execution_count": 56,
   "metadata": {},
   "outputs": [],
   "source": [
    "from math import sqrt\n",
    "import sys\n",
    "import simpy\n",
    "import numpy as np\n",
    "import pandas as pd\n",
    "import random as rd\n",
    "import os\n",
    "import sys\n",
    "import matplotlib.pyplot as plt\n",
    "import chipy as cp\n",
    "import time"
   ]
  },
  {
   "cell_type": "markdown",
   "metadata": {},
   "source": [
    "### Model Variables"
   ]
  },
  {
   "cell_type": "code",
   "execution_count": 57,
   "metadata": {},
   "outputs": [],
   "source": [
    "inf = float(\"inf\")                           # Infinity \n",
    "lv: float = 3.0                              # Time to load/unload the vehicle\n",
    "dv: float = 0.5                              # Unit width clearance \n",
    "vmaxv: float = 1.5                           # Maximum velocity of the vehicle\n",
    "av: float = 1.0                              # Acceleration/deceleration of the vehicle\n",
    "ll: float = 2.0                              # Time to load/unload the lift\n",
    "dl: float = 0.8                              # Unit height clearance\n",
    "vmaxl: float = 5.0                           # Maximum velocity of lift\n",
    "al: float = 7.0                              # Acceleration/deceleration of lift\n",
    "bc: int = inf                                # Buffer capacity\n",
    "arrive: float = 70                           # Rate of arrival\n",
    "Level: int = 9                               # The number of tiers\n",
    "depth: int = 55                              # The number of columns\n",
    "number_of_orders: int = 1*10**(4)            # Number of orders to process\n",
    "Tiers: list = []                             # List of individual tiers\n",
    "totes: list = []                             # List of processed orders\n",
    "env = cp.environment()                       # Initiate Environment"
   ]
  },
  {
   "cell_type": "markdown",
   "metadata": {},
   "source": [
    "### Workstations\n",
    "Note that the througput $\\delta$ of the `Vehicle` is the total rate of arrival divided by the amount of (parallel) tiers."
   ]
  },
  {
   "cell_type": "code",
   "execution_count": 58,
   "metadata": {},
   "outputs": [
    {
     "name": "stdout",
     "output_type": "stream",
     "text": [
      "9\n",
      "{'Vehicle': <chipy.processes.station.Station object at 0x000001D25E1F85E0>, 'Lift': <chipy.processes.station.Station object at 0x000001D25E1F8250>}\n",
      "{'Vehicle': <chipy.processes.station.Station object at 0x000001D25E1F8A60>, 'Lift': <chipy.processes.station.Station object at 0x000001D25E1F8250>}\n"
     ]
    }
   ],
   "source": [
    "Lift = cp.Station(env = env, delta = (arrive), queuesize = bc)\n",
    "\n",
    "for j in np.arange(0,Level,1):\n",
    "    Tiers.append({\n",
    "        \"Vehicle\": cp.Station(env = env, delta = (arrive/Level)),\n",
    "        \"Lift\": Lift\n",
    "    })\n",
    "print(len(Tiers))\n",
    "print(Tiers[0])\n",
    "print(Tiers[1])"
   ]
  },
  {
   "cell_type": "markdown",
   "metadata": {},
   "source": [
    "### Run Environment (`runenv`)\n"
   ]
  },
  {
   "cell_type": "code",
   "execution_count": 59,
   "metadata": {},
   "outputs": [],
   "source": [
    "t_arr: list = []     # Arrive times of totes\n",
    "t_exit: list = []    # Exit times of totes\n",
    "phi: list = []       # Phi list to calculate average flowtime per lot, like in chi \n",
    "    \n",
    "def runenv(env, tote, Tiers):\n",
    "    arr = env.now\n",
    "    t_arr.append([tote[0], arr])\n",
    "    \n",
    "    tier = tote[2] - 1\n",
    "    # NOTE Dictionary Indexing starts at zero!\n",
    "    \n",
    "#----------------------------------------------------------\n",
    "# VEHICLE \n",
    "#----------------------------------------------------------\n",
    "    \n",
    "    dminv = (vmaxv**(2))/(av)\n",
    "    d_vehicle = tote[1]*dv\n",
    "    \n",
    "    if (d_vehicle <= dminv):\n",
    "        t_travel_vehicle = sqrt((4*d_vehicle)/(av))\n",
    "    elif (d_vehicle > dminv):\n",
    "        t_travel_vehicle = (d_vehicle-dminv)/(vmaxv) + (2*vmaxv)/(av)\n",
    "    \n",
    "    te_vehicle = 2*(t_travel_vehicle + lv)\n",
    "    yield env.process(Tiers[tier][\"Vehicle\"].proc(lot = tote,te = lambda: te_vehicle,us = Tiers[tier][\"Lift\"]))\n",
    "    \n",
    "#----------------------------------------------------------\n",
    "# LIFT\n",
    "#----------------------------------------------------------\n",
    "    \n",
    "    dminl = (vmaxl**2)/(al)\n",
    "    d_lift = (tote[2])*dl \n",
    "    # NOTE d = dl(i+1), i \\in {0,Level-1}. tote[2] = Level\n",
    "    if (d_lift <= dminl):\n",
    "        t_travel_lift = sqrt(4*d_lift/al)\n",
    "    elif (d_lift > dminl):\n",
    "        t_travel_lift = (d_lift-dminl)/vmaxl + (2*vmaxl)/al\n",
    "    te_lift = 2*(ll + t_travel_lift)\n",
    "    yield env.process(Tiers[tier][\"Lift\"].proc(lot = tote,te = lambda: te_lift))  \n",
    "    \n",
    "    end = env.now\n",
    "    t_exit.append([tote[0], end])\n",
    "    phi.append(end-arr)\n",
    "    totes.append(tote)"
   ]
  },
  {
   "cell_type": "markdown",
   "metadata": {},
   "source": [
    "### Generator"
   ]
  },
  {
   "cell_type": "code",
   "execution_count": 60,
   "metadata": {},
   "outputs": [],
   "source": [
    "class ToteGenerator(cp.Generator):\n",
    "    def __init__(self, env, ta, runenv, lots, stations, priority = lambda: 0, column = lambda: 0, tier = lambda: 1):\n",
    "        super().__init__(env, ta, runenv, lots, stations, priority)\n",
    "        self.column = column\n",
    "        self.level = tier\n",
    "        self.levels = range(1,self.level+1,1) \n",
    "    def gen(self, env, method = \"Time\", lots_max = None) -> None:\n",
    "        if (method == \"Time\"):\n",
    "            cond = lambda: 1\n",
    "        elif (method == \"n-processed\"):\n",
    "            cond = lambda: (len(self.lots) < lots_max)\n",
    "        elif (method == \"n-generated\"):\n",
    "            cond = lambda: (lot_ID < lots_max)\n",
    "        j: int = 0\n",
    "        lot_ID: int = 0\n",
    "        while (cond()):\n",
    "            yield env.timeout(self.ta())\n",
    "            lot = (lot_ID, self.column(), self.levels[j])\n",
    "            self.env.process(self.runenv(env, lot, self.stations))\n",
    "            lot_ID += 1\n",
    "            j += 1\n",
    "            if (j > (self.level-1)):\n",
    "                j = 0"
   ]
  },
  {
   "cell_type": "code",
   "execution_count": 61,
   "metadata": {},
   "outputs": [],
   "source": [
    "G = ToteGenerator(\n",
    "            env = env,\n",
    "            ta = lambda: rd.expovariate((arrive)**(-1)),   \n",
    "            stations = Tiers, \n",
    "            runenv = runenv,\n",
    "            lots = totes,\n",
    "            column = lambda: rd.randint(1, depth),\n",
    "            tier = Level\n",
    ")"
   ]
  },
  {
   "cell_type": "markdown",
   "metadata": {},
   "source": [
    "### Simulation\n"
   ]
  },
  {
   "cell_type": "code",
   "execution_count": 62,
   "metadata": {},
   "outputs": [
    {
     "name": "stdout",
     "output_type": "stream",
     "text": [
      "It took 3.565502405166626 [s] to perform the simulation\n"
     ]
    }
   ],
   "source": [
    "start_sim = time.time()\n",
    "cp.simulate(env = env ,\n",
    "            generator = G,\n",
    "            method = \"n-generated\",\n",
    "            lots_max = number_of_orders)\n",
    "print(f\"It took {time.time()-start_sim} [s] to perform the simulation\")"
   ]
  },
  {
   "cell_type": "markdown",
   "metadata": {},
   "source": [
    "### Summary Output"
   ]
  },
  {
   "cell_type": "code",
   "execution_count": 63,
   "metadata": {},
   "outputs": [
    {
     "name": "stdout",
     "output_type": "stream",
     "text": [
      "\n",
      "============================================================\n",
      "SIMULATION SUMMARY\n",
      "============================================================\n",
      "\n",
      "The average flow time equals 34.969698714621906\n",
      "The standard deviation of the flow time equals 10.78373141874099\n",
      "The variability of the flow time equals 0.30837358670842596\n",
      "The amount of products that passed through the run environment is 10000 in 691883.5892018371 time units\n",
      "\n",
      "============================================================\n"
     ]
    }
   ],
   "source": [
    "cp.stats(lots = totes, \n",
    "        t_start = t_arr,\n",
    "        t_end = t_exit,\n",
    "        sim_time = t_exit[-1][1],\n",
    "        generate_table = False)"
   ]
  },
  {
   "cell_type": "markdown",
   "metadata": {},
   "source": [
    "# ORG GEN"
   ]
  },
  {
   "cell_type": "code",
   "execution_count": 64,
   "metadata": {},
   "outputs": [],
   "source": [
    "class ToteGenerator(cp.Generator):\n",
    "    def __init__(self, env, ta, runenv, lots, stations, priority = lambda: 0, column = lambda: 0, tier = lambda: 1):\n",
    "        super().__init__(env, ta, runenv, lots, stations, priority)\n",
    "        self.column = column\n",
    "        self.level = tier\n",
    "        self.levels = range(1,self.level+1,1) \n",
    "    def gen(self, env, method = \"Time\", lots_max = None) -> None:\n",
    "        if (method == \"Time\"):\n",
    "            cond = lambda: 1\n",
    "        elif (method == \"n-processed\"):\n",
    "            cond = lambda: (len(self.lots) < lots_max)\n",
    "        elif (method == \"n-generated\"):\n",
    "            cond = lambda: (lot_ID < lots_max)\n",
    "        j: int = 0\n",
    "        lot_ID: int = 0\n",
    "        while (cond()):\n",
    "            yield env.timeout(self.ta())\n",
    "            lot = (lot_ID, self.column(), self.levels[j])\n",
    "            self.env.process(self.runenv(env, lot, self.stations))\n",
    "            lot_ID += 1\n",
    "            j += 1\n",
    "            if (j > (self.level-1)):\n",
    "                j = 0"
   ]
  },
  {
   "cell_type": "markdown",
   "metadata": {},
   "source": [
    "# ALT GEN 2"
   ]
  },
  {
   "cell_type": "code",
   "execution_count": null,
   "metadata": {},
   "outputs": [],
   "source": []
  }
 ],
 "metadata": {
  "kernelspec": {
   "display_name": "Python 3",
   "language": "python",
   "name": "python3"
  },
  "language_info": {
   "codemirror_mode": {
    "name": "ipython",
    "version": 3
   },
   "file_extension": ".py",
   "mimetype": "text/x-python",
   "name": "python",
   "nbconvert_exporter": "python",
   "pygments_lexer": "ipython3",
   "version": "3.8.5"
  }
 },
 "nbformat": 4,
 "nbformat_minor": 4
}
